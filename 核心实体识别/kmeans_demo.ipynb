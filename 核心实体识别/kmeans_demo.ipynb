{
 "cells": [
  {
   "cell_type": "code",
   "execution_count": 2,
   "metadata": {},
   "outputs": [
    {
     "name": "stdout",
     "output_type": "stream",
     "text": [
      "Predicting result:  [1 1 0 1]\n"
     ]
    }
   ],
   "source": [
    "# -*- coding: utf-8 -*-\n",
    "\"\"\"\n",
    "author:zhongls\n",
    "\"\"\"\n",
    "\n",
    "import jieba\n",
    "from sklearn.feature_extraction.text import  TfidfVectorizer\n",
    "from sklearn.cluster import KMeans\n",
    "\n",
    "def jieba_tokenize(text):\n",
    "    return jieba.lcut(text)\n",
    "\n",
    "\n",
    "tfidf_vectorizer = TfidfVectorizer(tokenizer=jieba_tokenize, lowercase=False)\n",
    "'''\n",
    "tokenizer: 指定分词函数\n",
    "lowercase: 在分词之前将所有的文本转换成小写，因为涉及到中文文本处理，\n",
    "所以最好是False\n",
    "'''\n",
    "\n",
    "text_list = [\"今天天气真好啊啊啊啊\", \"小明上了清华大学\", \\\n",
    "\"我今天拿到了Google的Offer\", \"清华大学在自然语言处理方面真厉害\"]\n",
    " #需要进行聚类的文本集\n",
    "\n",
    "tfidf_matrix = tfidf_vectorizer.fit_transform(text_list)\n",
    "\n",
    "num_clusters = 2\n",
    "km_cluster = KMeans(n_clusters=num_clusters, max_iter=300, n_init=1, \\\n",
    "                    init='k-means++',n_jobs=1)\n",
    "\n",
    "'''\n",
    "n_clusters: 指定K的值\n",
    "max_iter: 对于单次初始值计算的最大迭代次数\n",
    "n_init: 重新选择初始值的次数\n",
    "init: 制定初始值选择的算法\n",
    "n_jobs: 进程个数，为-1的时候是指默认跑满CPU\n",
    "注意，这个对于单个初始值的计算始终只会使用单进程计算，\n",
    "并行计算只是针对与不同初始值的计算。比如n_init=10，n_jobs=40,\n",
    "服务器上面有20个CPU可以开40个进程，最终只会开10个进程\n",
    "'''\n",
    "#返回各自文本的所被分配到的类索引\n",
    "result = km_cluster.fit_predict(tfidf_matrix)\n",
    "\n",
    "print (\"Predicting result: \", result)"
   ]
  },
  {
   "cell_type": "code",
   "execution_count": 4,
   "metadata": {},
   "outputs": [
    {
     "name": "stdout",
     "output_type": "stream",
     "text": [
      "陶喆 vn\n",
      "下载 v\n"
     ]
    }
   ],
   "source": [
    "import jieba\n",
    "import jieba.posseg\n",
    "words = jieba.posseg.cut(\"陶喆下载\")\n",
    "for word, flag in words:\n",
    "    print('%s %s' ；% (word, flag))"
   ]
  },
  {
   "cell_type": "code",
   "execution_count": null,
   "metadata": {},
   "outputs": [],
   "source": []
  },
  {
   "cell_type": "code",
   "execution_count": null,
   "metadata": {},
   "outputs": [],
   "source": []
  },
  {
   "cell_type": "code",
   "execution_count": null,
   "metadata": {},
   "outputs": [],
   "source": []
  }
 ],
 "metadata": {
  "kernelspec": {
   "display_name": "Python [default]",
   "language": "python",
   "name": "python3"
  },
  "language_info": {
   "codemirror_mode": {
    "name": "ipython",
    "version": 3
   },
   "file_extension": ".py",
   "mimetype": "text/x-python",
   "name": "python",
   "nbconvert_exporter": "python",
   "pygments_lexer": "ipython3",
   "version": "3.5.2"
  }
 },
 "nbformat": 4,
 "nbformat_minor": 2
}
